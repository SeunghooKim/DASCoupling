{
 "cells": [
  {
   "cell_type": "code",
   "execution_count": null,
   "metadata": {},
   "outputs": [],
   "source": [
    "from DAScoupling import data, corrcoef, functions"
   ]
  },
  {
   "cell_type": "code",
   "execution_count": null,
   "metadata": {},
   "outputs": [],
   "source": [
    "DAS = data.data()\n",
    "DAS.read_sweep(69, '5416_220524_192640_288000.sgy', '/Users/veneziafollingstad/Desktop/The Business/FieldSessionProcessing/2022_05_24_vibroseis_data/')\n",
    "DAS.read_data('/Users/veneziafollingstad/Desktop/The Business/FieldSessionProcessing/UTC-YMD20220524-HMS183838.173')\n",
    "DAS.correlate()"
   ]
  },
  {
   "cell_type": "code",
   "execution_count": null,
   "metadata": {},
   "outputs": [],
   "source": [
    "DAS.plot_sweep()"
   ]
  },
  {
   "cell_type": "code",
   "execution_count": null,
   "metadata": {},
   "outputs": [],
   "source": [
    "DAS.plot()"
   ]
  },
  {
   "cell_type": "code",
   "execution_count": null,
   "metadata": {},
   "outputs": [],
   "source": [
    "DAS.plot_powerspec(np.abs(ft.rfft(DAS.corr_data,axis=0))[0:3500,:], 219)"
   ]
  }
 ],
 "metadata": {
  "language_info": {
   "name": "python"
  },
  "orig_nbformat": 4
 },
 "nbformat": 4,
 "nbformat_minor": 2
}
